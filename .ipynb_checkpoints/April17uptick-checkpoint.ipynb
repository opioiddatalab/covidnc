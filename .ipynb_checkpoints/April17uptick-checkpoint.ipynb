{
 "cells": [
  {
   "cell_type": "markdown",
   "metadata": {},
   "source": [
    "# Analysis of Potential Upticks in Mobility\n",
    "On Friday April 17, 2020 in North Carolina"
   ]
  },
  {
   "cell_type": "code",
   "execution_count": 1,
   "metadata": {},
   "outputs": [
    {
     "name": "stdout",
     "output_type": "stream",
     "text": [
      "\n",
      "\n",
      "(9 vars, 133,285 obs)\n",
      "\n",
      "(2,600 observations deleted)\n",
      "\n",
      "\n",
      "\n",
      "\n",
      "\n",
      "\n",
      "    Variable |        Obs        Mean    Std. Dev.       Min        Max\n",
      "-------------+---------------------------------------------------------\n",
      "        date |    130,685    21999.49    14.43114      21975      22024\n",
      "\n",
      "\n",
      "19apr2020\n",
      "\n",
      "\n",
      "01mar2020\n",
      "\n",
      "\n",
      "\n",
      "(125,880 observations deleted)\n",
      "\n",
      "\n",
      "frame base already defined\n"
     ]
    },
    {
     "name": "stderr",
     "output_type": "stream",
     "text": [
      "r(110);\n",
      "r(110);\n"
     ]
    },
    {
     "name": "stdout",
     "output_type": "stream",
     "text": [
      "\n",
      "\n"
     ]
    }
   ],
   "source": [
    "// Import data\n",
    "clear all\n",
    " import delimited \"https://raw.githubusercontent.com/descarteslabs/DL-COVID-19/master/DL-us-mobility-daterow.csv\", encoding(ISO-8859-9) stringcols(6) \n",
    "\n",
    " * Drop state aggregates\n",
    "  drop if admin2==\"\"\n",
    "\n",
    " * Format date\n",
    "  gen date2=date(date,\"YMD\")\n",
    "   format date2 %td\n",
    "    drop date\n",
    "     rename date2 date\n",
    "  \n",
    " * Note data start and end dates\n",
    "  su date \n",
    "   local latest: disp %td r(max)\n",
    "    di \"`latest'\"\n",
    "   local earliest: disp %td r(min)\n",
    "    di \"`earliest'\"\n",
    "    \n",
    " * Keep NC only\n",
    "   rename admin2 county\n",
    "   rename admin1 state\n",
    "   keep if state==\"North Carolina\"\n",
    "   \n",
    " *keep if date==mdy(4,17,2020) | date==mdy(4,10,2020) | date==mdy(4,3,2020)\n",
    "  \n",
    "  \n",
    " *keep if date==mdy(4,18,2020) | date==mdy(4,11,2020) | date==mdy(4,4,2020)\n",
    "\n",
    "  \n",
    "  keep if date==mdy(4,17,2020) | date==mdy(4,10,2020) | date==mdy(4,18,2020) | date==mdy(4,11,2020)\n",
    "  \n",
    "  line m50 date, by(county)\n",
    "  \n",
    "  keep county date m50\n",
    "\n",
    " reshape wide m50, i(county) j(date)\n",
    "\n",
    " rename m5022015 f1 \n",
    " rename m5022016 s1\n",
    " rename m5022022 f2\n",
    " rename m5022023 s2\n",
    " \n",
    " gen uptickfri=1\n",
    "  replace uptickfri=0 if s2<fs\n",
    " gen upticksat=1\n",
    "  replace upticksat=0 if s2<s1\n",
    "\n",
    "  gen direction=uptickfri+upticksat\n",
    "  \n",
    "  label define movers 0 \"Decline both days\" 1 \"Decline + Increase\" 2 \"Increase both days\"\n",
    "      label values direction movers"
   ]
  },
  {
   "cell_type": "code",
   "execution_count": null,
   "metadata": {},
   "outputs": [],
   "source": []
  }
 ],
 "metadata": {
  "kernelspec": {
   "display_name": "Stata",
   "language": "stata",
   "name": "stata"
  },
  "language_info": {
   "codemirror_mode": "stata",
   "file_extension": ".do",
   "mimetype": "text/x-stata",
   "name": "stata",
   "version": "15.1"
  }
 },
 "nbformat": 4,
 "nbformat_minor": 4
}
